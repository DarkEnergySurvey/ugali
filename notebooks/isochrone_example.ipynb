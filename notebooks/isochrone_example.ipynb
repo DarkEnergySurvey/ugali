{
 "cells": [
  {
   "cell_type": "code",
   "execution_count": 1,
   "metadata": {},
   "outputs": [],
   "source": [
    "%matplotlib inline"
   ]
  },
  {
   "cell_type": "code",
   "execution_count": 2,
   "metadata": {},
   "outputs": [],
   "source": [
    "import numpy as np\n",
    "import pylab as plt\n",
    "from matplotlib.colors import LogNorm\n",
    "\n",
    "from ugali import isochrone"
   ]
  },
  {
   "cell_type": "markdown",
   "metadata": {},
   "source": [
    "# Creating Isochrones\n",
    "\n",
    "To use the isochrone module, you must have the isochrone library installed (see instructions [here](https://github.com/DarkEnergySurvey/ugali#installation)). The `isochrone` module provides an API to create isochrones and calculate various characteristics. The easiest way to create an isochrone is through the general factory interface shown below."
   ]
  },
  {
   "cell_type": "code",
   "execution_count": 3,
   "metadata": {},
   "outputs": [],
   "source": [
    "def plot_iso(iso):\n",
    "    plt.scatter(iso.mag_1-iso.mag_2,iso.mag_1+iso.distance_modulus,marker='o',c='k')\n",
    "    plt.gca().invert_yaxis()\n",
    "    plt.xlabel('%s - %s'%(iso.band_1,iso.band_2)); plt.ylabel(iso.band_1)"
   ]
  },
  {
   "cell_type": "code",
   "execution_count": 4,
   "metadata": {},
   "outputs": [
    {
     "name": "stdout",
     "output_type": "stream",
     "text": [
      "Padova\n",
      "  Parameters:\n",
      "    distance_modulus : Parameter(17, [10.0, 30.0], False)\n",
      "    age              : Parameter(12, [10.0, 12.0], False)\n",
      "    metallicity      : Parameter(0.0002, [0.0001, 0.0002], False)\n",
      "  Filename: /pbs/throng/lsst/users/tanugi/.ugali/isochrones/des/marigo2017/iso_a12.0_z0.00020.dat\n"
     ]
    },
    {
     "data": {
      "image/png": "[encoded data removed]",
      "text/plain": [
       "<Figure size 432x288 with 1 Axes>"
      ]
     },
     "metadata": {},
     "output_type": "display_data"
    }
   ],
   "source": [
    "iso1 = isochrone.factory(name='Padova',\n",
    "                        age=12,  # Gyr\n",
    "                        metallicity=0.0002, # Z\n",
    "                        distance_modulus=17\n",
    "                       )\n",
    "print(iso1)\n",
    "plot_iso(iso1)"
   ]
  },
  {
   "cell_type": "code",
   "execution_count": 5,
   "metadata": {},
   "outputs": [
    {
     "name": "stdout",
     "output_type": "stream",
     "text": [
      "Padova\n",
      "  Parameters:\n",
      "    distance_modulus : Parameter(17, [10.0, 30.0], False)\n",
      "    age              : Parameter(12, [10.0, 12.0], False)\n",
      "    metallicity      : Parameter(0.0002, [0.0001, 0.0002], False)\n",
      "  Filename: /pbs/throng/lsst/users/tanugi/.ugali/isochrones/des/marigo2017/iso_a12.0_z0.00020.dat\n"
     ]
    },
    {
     "data": {
      "image/png": "[encoded data removed]",
      "text/plain": [
       "<Figure size 432x288 with 1 Axes>"
      ]
     },
     "metadata": {},
     "output_type": "display_data"
    }
   ],
   "source": [
    "# Change the two bands that the isochrone loads\n",
    "iso2 = isochrone.factory(name='Padova',\n",
    "                        age=12,  # Gyr\n",
    "                        metallicity=0.0002, # Z\n",
    "                        distance_modulus=17,\n",
    "                        band_1 = 'i',\n",
    "                        band_2 = 'z'\n",
    "                       )\n",
    "print(iso2)\n",
    "plot_iso(iso2)"
   ]
  },
  {
   "cell_type": "code",
   "execution_count": 6,
   "metadata": {},
   "outputs": [
    {
     "name": "stdout",
     "output_type": "stream",
     "text": [
      "Dotter\n",
      "  Parameters:\n",
      "    distance_modulus : Parameter(17, [10.0, 30.0], False)\n",
      "    age              : Parameter(12, [10.0, 12.0], False)\n",
      "    metallicity      : Parameter(0.0002, [0.0001, 0.0002], False)\n",
      "  Filename: /pbs/throng/lsst/users/tanugi/.ugali/isochrones/des/dotter2016/iso_a12.0_z0.00020.dat\n"
     ]
    },
    {
     "data": {
      "image/png": "[encoded data removed]",
      "text/plain": [
       "<Figure size 432x288 with 1 Axes>"
      ]
     },
     "metadata": {},
     "output_type": "display_data"
    }
   ],
   "source": [
    "# Create a Dotter isochrone\n",
    "iso3 = isochrone.factory(name='Dotter',\n",
    "                        age=12,  # Gyr\n",
    "                        metallicity=0.0002, # Z\n",
    "                        distance_modulus=17\n",
    "                       )\n",
    "print(iso3)\n",
    "plot_iso(iso3)"
   ]
  },
  {
   "cell_type": "markdown",
   "metadata": {},
   "source": [
    "# Modifying Isochrones\n",
    "\n",
    "Once you create an isochrone, you can modify it's parameters on the fly."
   ]
  },
  {
   "cell_type": "code",
   "execution_count": 7,
   "metadata": {},
   "outputs": [
    {
     "name": "stdout",
     "output_type": "stream",
     "text": [
      "Padova\n",
      "  Parameters:\n",
      "    distance_modulus : Parameter(20, [10.0, 30.0], False)\n",
      "    age              : Parameter(11, [10.0, 12.0], False)\n",
      "    metallicity      : Parameter(0.00015, [0.0001, 0.0002], False)\n",
      "  Filename: /pbs/throng/lsst/users/tanugi/.ugali/isochrones/des/marigo2017/iso_a10.0_z0.00010.dat\n"
     ]
    }
   ],
   "source": [
    "iso = isochrone.factory(name='Padova',\n",
    "                        age=12,  # Gyr\n",
    "                        metallicity=0.0002, # Z\n",
    "                        distance_modulus=17\n",
    "                       )\n",
    "\n",
    "# You can set the age, metallicity, and distance modulus\n",
    "iso.age = 11\n",
    "iso.distance_modulus = 20\n",
    "iso.metallicity = 0.00015\n",
    "print(iso)"
   ]
  },
  {
   "cell_type": "code",
   "execution_count": 8,
   "metadata": {},
   "outputs": [
    {
     "name": "stdout",
     "output_type": "stream",
     "text": [
      "Error: Value outside bounds: 40 [10,30]\n",
      "Padova\n",
      "  Parameters:\n",
      "    distance_modulus : Parameter(40, [10, 50], False)\n",
      "    age              : Parameter(11, [10.0, 12.0], False)\n",
      "    metallicity      : Parameter(0.00015, [0.0001, 0.0002], False)\n",
      "  Filename: /pbs/throng/lsst/users/tanugi/.ugali/isochrones/des/marigo2017/iso_a10.0_z0.00010.dat\n"
     ]
    }
   ],
   "source": [
    "# Each parameter has bounds and will throw an error if you are outside the range (useful for fitting)\n",
    "try:\n",
    "    iso.distance_modulus = 40\n",
    "except ValueError as e:\n",
    "    print(\"Error:\",e)\n",
    "    \n",
    "# However, you can increase the range\n",
    "iso.params['distance_modulus'].set_bounds([10,50])\n",
    "iso.distance_modulus = 40\n",
    "print(iso)\n",
    "iso.distance_modulus = 17"
   ]
  },
  {
   "cell_type": "code",
   "execution_count": 9,
   "metadata": {},
   "outputs": [
    {
     "name": "stdout",
     "output_type": "stream",
     "text": [
      "Metallicity: 0.00011 /pbs/throng/lsst/users/tanugi/.ugali/isochrones/des/marigo2017/iso_a10.0_z0.00010.dat\n",
      "Metallicity: 0.00012 /pbs/throng/lsst/users/tanugi/.ugali/isochrones/des/marigo2017/iso_a10.0_z0.00010.dat\n",
      "Metallicity: 0.00013 /pbs/throng/lsst/users/tanugi/.ugali/isochrones/des/marigo2017/iso_a10.0_z0.00010.dat\n",
      "Metallicity: 0.000115 /pbs/throng/lsst/users/tanugi/.ugali/isochrones/des/marigo2017/iso_a10.0_z0.00010.dat\n"
     ]
    }
   ],
   "source": [
    "# Updating a parameters just changes the underlying isochrone file\n",
    "# Note: There is no interpolation being done\n",
    "\n",
    "for metal in [0.00011,0.00012,0.00013]:\n",
    "    iso.metallicity = metal\n",
    "    print(\"Metallicity:\",iso.metallicity,iso.filename)\n",
    " \n",
    "iso.metallicity = 0.000115\n",
    "print(\"Metallicity:\",iso.metallicity,iso.filename)"
   ]
  },
  {
   "cell_type": "markdown",
   "metadata": {},
   "source": [
    "# Advanced Methods\n",
    "\n",
    "The `Isochrone` class wraps several more complicated functions related to isochrones. A few examples are shown below."
   ]
  },
  {
   "cell_type": "code",
   "execution_count": 10,
   "metadata": {},
   "outputs": [
    {
     "data": {
      "text/plain": [
       "(-0.5, 1.0)"
      ]
     },
     "execution_count": 10,
     "metadata": {},
     "output_type": "execute_result"
    },
    {
     "data": {
      "image/png": "[encoded data removed]",
      "text/plain": [
       "<Figure size 432x288 with 2 Axes>"
      ]
     },
     "metadata": {},
     "output_type": "display_data"
    }
   ],
   "source": [
    "# Draw a regular grid of points from the isochrone with associated IMF\n",
    "initial_mass,mass_pdf,actual_mass,mag_1,mag_2 = iso1.sample(mass_steps=1e2)\n",
    "\n",
    "plt.scatter(mag_1-mag_2,mag_1+iso1.distance_modulus,c=mass_pdf,marker='o',facecolor='none',vmax=0.001)\n",
    "plt.colorbar()\n",
    "plt.gca().invert_yaxis()\n",
    "plt.xlabel('%s - %s'%(iso.band_1,iso.band_2)); plt.ylabel(iso.band_1)\n",
    "plt.ylim(23,15); plt.xlim(-0.5,1.0)"
   ]
  },
  {
   "cell_type": "code",
   "execution_count": 11,
   "metadata": {},
   "outputs": [
    {
     "data": {
      "text/plain": [
       "Text(0,0.5,'g')"
      ]
     },
     "execution_count": 11,
     "metadata": {},
     "output_type": "execute_result"
    },
    {
     "data": {
      "image/png": "[encoded data removed]",
      "text/plain": [
       "<Figure size 432x288 with 2 Axes>"
      ]
     },
     "metadata": {},
     "output_type": "display_data"
    }
   ],
   "source": [
    "# Randomly sample stars from the isochrone pdf\n",
    "# Note: `sample` returns the apparent magnitudes of stars\n",
    "mag_1,mag_2 = iso1.simulate(stellar_mass=3e5)\n",
    "n,bx,by,p = plt.hist2d(mag_1-mag_2,mag_2,bins=50,norm=LogNorm())\n",
    "plt.colorbar(label=\"Number of Stars\")\n",
    "plt.gca().invert_yaxis()\n",
    "plt.xlabel('%s - %s'%(iso.band_1,iso.band_2)); plt.ylabel(iso.band_1)"
   ]
  },
  {
   "cell_type": "code",
   "execution_count": 12,
   "metadata": {},
   "outputs": [
    {
     "name": "stdout",
     "output_type": "stream",
     "text": [
      "Stellar Mass: 2444.703300559742\n",
      "Stellar Luminosity: 2275.862945149175\n",
      "Absolute Magnitude: -3.7149398323152742\n",
      "Martin Absolute Magnitude: [-3.6783250936973135, [-3.4215436750382913, -3.9602712019887516]]\n"
     ]
    }
   ],
   "source": [
    "# The isochrone is normalized using a `richness` parameter (number of stars above a given mass threshold)\n",
    "richness = 1e4\n",
    "# Total stellar mass above some minimum mass\n",
    "print(\"Stellar Mass:\",richness * iso.stellar_mass())\n",
    "# Luminosity calculated from the isochrone file and mass pdf\n",
    "print(\"Stellar Luminosity:\",richness * iso.stellar_luminosity())\n",
    "# Calculate the richness \n",
    "print(\"Absolute Magnitude:\",iso.absolute_magnitude(richness=richness))\n",
    "# Calculate the absolute magnitude using the random sampling of Martin et al. 2008\n",
    "print(\"Martin Absolute Magnitude:\",iso.absolute_magnitude_martin(richness=richness))"
   ]
  }
 ],
 "metadata": {
  "anaconda-cloud": {},
  "kernelspec": {
   "display_name": "Python 2",
   "language": "python",
   "name": "python2"
  },
  "language_info": {
   "codemirror_mode": {
    "name": "ipython",
    "version": 2
   },
   "file_extension": ".py",
   "mimetype": "text/x-python",
   "name": "python",
   "nbconvert_exporter": "python",
   "pygments_lexer": "ipython2",
   "version": "2.7.12"
  }
 },
 "nbformat": 4,
 "nbformat_minor": 2
}
