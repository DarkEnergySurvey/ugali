{
 "cells": [
  {
   "cell_type": "markdown",
   "metadata": {},
   "source": [
    "# Pipeline Tutorial\n",
    "\n",
    "This notebook serves as a tutorial for the `ugali` pipeline analysis. Its purpose is to document the steps taken to perform an end-to-end likelihood analysis on a raw data set."
   ]
  },
  {
   "cell_type": "code",
   "execution_count": null,
   "metadata": {},
   "outputs": [],
   "source": [
    "%matplotlib inline\n",
    "import os"
   ]
  },
  {
   "cell_type": "markdown",
   "metadata": {},
   "source": [
    "## Installing Test Data\n",
    "\n",
    "First we create a working directory and download some test data:"
   ]
  },
  {
   "cell_type": "code",
   "execution_count": null,
   "metadata": {},
   "outputs": [],
   "source": [
    "!mkdir -p work\n",
    "os.chdir('./work')\n",
    "!wget https://github.com/DarkEnergySurvey/ugali/releases/download/v1.7.0/ugali-test-data.tar.gz\n",
    "!tar -xzf ugali-test-data.tar.gz && rm -f ugali-test-data.tar.gz"
   ]
  },
  {
   "cell_type": "markdown",
   "metadata": {},
   "source": [
    "For easy access, we'll also create symlinks to some of the `ugali` components that we'll be using. "
   ]
  },
  {
   "cell_type": "code",
   "execution_count": null,
   "metadata": {},
   "outputs": [],
   "source": [
    "!rm -f ugali && ln -s ../ugali\n",
    "!rm -f pipeline && ln -s ugali/pipeline\n",
    "!rm -f config_test.yaml && ln -s ugali/config/config_test.yaml"
   ]
  },
  {
   "cell_type": "markdown",
   "metadata": {},
   "source": [
    "Let's take a look at what we've got"
   ]
  },
  {
   "cell_type": "code",
   "execution_count": null,
   "metadata": {},
   "outputs": [],
   "source": [
    "!ls -lh *"
   ]
  },
  {
   "cell_type": "markdown",
   "metadata": {},
   "source": [
    "The components of our working directory are now:\n",
    "* `healpix` - this directory contains the catalog data divided into files by healpix pixel (and labeled as such)\n",
    "* `mask` - mask of the magnitude limit in \"sparse\" healpix representation corresponding to each catalog pixel\n",
    "* `pipeline` - pipeline scripts\n",
    "* `config_test.yaml` - pipeline configuration file"
   ]
  },
  {
   "cell_type": "code",
   "execution_count": null,
   "metadata": {},
   "outputs": [],
   "source": [
    "import numpy as np\n",
    "import healpy as hp\n",
    "import fitsio\n",
    "data = fitsio.read('healpix/catalog_hpx0687.fits')\n",
    "print(data.dtype.names)\n",
    "print(data[:3])\n",
    "\n",
    "# Displaying the catalog as a healpix map\n",
    "nside=4096\n",
    "c = np.zeros(hp.nside2npix(nside))\n",
    "pix,cts = np.unique(data['PIX4096'],return_counts=True)\n",
    "c[pix] = cts\n",
    "\n",
    "hp.cartview(c,lonra=[53.5,55],latra=[-55,-53.5])"
   ]
  },
  {
   "cell_type": "code",
   "execution_count": null,
   "metadata": {},
   "outputs": [],
   "source": [
    "mask = fitsio.read('mask/maglim_g_hpx0687.fits')\n",
    "print(mask.dtype.names)\n",
    "print(mask[:3])\n",
    "\n",
    "# Displaying the catalog as a healpix map\n",
    "m = np.zeros(hp.nside2npix(nside))\n",
    "m[mask['PIXEL']] = mask['MAGLIM']\n",
    "\n",
    "hp.cartview(m,lonra=[53.5,55],latra=[-55,-53.5])"
   ]
  },
  {
   "cell_type": "markdown",
   "metadata": {},
   "source": [
    "## Configuration \n",
    "\n",
    "The configuration file is the key to the ugali pipeline analysis. We are going to use [`config_test.yaml`](https://github.com/DarkEnergySurvey/ugali/blob/master/ugali/config/config_test.yaml). This file contains the path to the catalog and mask files that we will use, as well as other configuration parameters for the various pipeline steps."
   ]
  },
  {
   "cell_type": "code",
   "execution_count": null,
   "metadata": {},
   "outputs": [],
   "source": [
    "!head -n 25 ../ugali/config/config_test.yaml"
   ]
  },
  {
   "cell_type": "markdown",
   "metadata": {},
   "source": [
    "## Likelihood Grid Scan\n",
    "\n",
    "Our first step will be to perform a likelihood grid scan over our test data set. Before executing the script, let's figure out what the arguments are:"
   ]
  },
  {
   "cell_type": "code",
   "execution_count": null,
   "metadata": {},
   "outputs": [],
   "source": [
    "!python pipeline/run_03.0_likelihood.py --help"
   ]
  },
  {
   "cell_type": "markdown",
   "metadata": {},
   "source": [
    "The command that we will run is\n",
    "```\n",
    "python pipeline/run_03.0_likelihood.py config_test.yaml -r scan -q local\n",
    "```\n",
    "Breaking this down:\n",
    "* `python pipeline/run_03.0_likelihood.py` - the script itself\n",
    "* `config_test.yaml` - the first positional argument of all the pipeline scripts is the configuration file\n",
    "* `-r scan` - the component of the pipeline we want to run; in this case the grid scan\n",
    "* `-q local` - we are going to execute this component locally\n",
    "\n",
    "Now to run the script..."
   ]
  },
  {
   "cell_type": "code",
   "execution_count": null,
   "metadata": {},
   "outputs": [],
   "source": [
    "!python pipeline/run_03.0_likelihood.py config_test.yaml -r scan -q local"
   ]
  },
  {
   "cell_type": "markdown",
   "metadata": {},
   "source": [
    "It will take a while for the script to run. The result will be a set of output files in the `scan` directory."
   ]
  },
  {
   "cell_type": "code",
   "execution_count": null,
   "metadata": {},
   "outputs": [],
   "source": [
    "!ls -lh scan"
   ]
  },
  {
   "cell_type": "markdown",
   "metadata": {},
   "source": [
    "The next step is to merge the output likelihood files"
   ]
  },
  {
   "cell_type": "code",
   "execution_count": null,
   "metadata": {},
   "outputs": [],
   "source": [
    "!python pipeline/run_03.0_likelihood.py config_test.yaml -r merge -q local"
   ]
  },
  {
   "cell_type": "markdown",
   "metadata": {},
   "source": [
    "Then we can perform a search for over densities in the likelihood on the merged files."
   ]
  },
  {
   "cell_type": "code",
   "execution_count": null,
   "metadata": {},
   "outputs": [],
   "source": [
    "!ls pipeline"
   ]
  },
  {
   "cell_type": "code",
   "execution_count": null,
   "metadata": {},
   "outputs": [],
   "source": [
    "!python pipeline/run_04.0_peak_finder.py config_test.yaml"
   ]
  }
 ],
 "metadata": {
  "kernelspec": {
   "display_name": "Python 3",
   "language": "python",
   "name": "python3"
  },
  "language_info": {
   "codemirror_mode": {
    "name": "ipython",
    "version": 3
   },
   "file_extension": ".py",
   "mimetype": "text/x-python",
   "name": "python",
   "nbconvert_exporter": "python",
   "pygments_lexer": "ipython3",
   "version": "3.6.5"
  }
 },
 "nbformat": 4,
 "nbformat_minor": 2
}
